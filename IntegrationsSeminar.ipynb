{
 "cells": [
  {
   "attachments": {},
   "cell_type": "markdown",
   "metadata": {},
   "source": [
    "## Requirements\n",
    "\n",
    "### Web-Scraping\n",
    "#### 1. Take the base wg-gesucht URL and scrape the shared flats listed on the website\n",
    "#### 2. most important data points are price, room size and number of flat mates\n",
    "\n",
    "### Data Analyis\n",
    "#### 1. Correlation analysis of room price and room size. Hypothesis: positive correlation\n",
    "#### 2. Correlation analysis of room price and number of flat mates. Hypothesis: negative correlation"
   ]
  },
  {
   "attachments": {},
   "cell_type": "markdown",
   "metadata": {},
   "source": [
    "### Import all neccessary libraries"
   ]
  },
  {
   "cell_type": "code",
   "execution_count": 4,
   "metadata": {},
   "outputs": [],
   "source": [
    "import requests"
   ]
  },
  {
   "attachments": {},
   "cell_type": "markdown",
   "metadata": {},
   "source": [
    "### Set base wg-gesucht url\n",
    "### Add string interpolation to allow easy iteration through listing pages"
   ]
  },
  {
   "cell_type": "code",
   "execution_count": 5,
   "metadata": {},
   "outputs": [],
   "source": [
    "pageNumber = 0\n",
    "URL = f'https://www.wg-gesucht.de/wg-zimmer-in-Mannheim.85.0.0.{pageNumber}.html?pagination=1&pu='\n"
   ]
  },
  {
   "attachments": {},
   "cell_type": "markdown",
   "metadata": {},
   "source": [
    "### Iterate through listing pages and scrape the required data points\n",
    "### Place scraped data into a dataframe/dictionary"
   ]
  },
  {
   "cell_type": "code",
   "execution_count": 7,
   "metadata": {},
   "outputs": [],
   "source": [
    "for i in range(0,5): \n",
    "    requests.get(URL)\n",
    "    pageNumber += 1\n",
    "    "
   ]
  },
  {
   "cell_type": "code",
   "execution_count": null,
   "metadata": {},
   "outputs": [],
   "source": []
  }
 ],
 "metadata": {
  "kernelspec": {
   "display_name": "Python 3",
   "language": "python",
   "name": "python3"
  },
  "language_info": {
   "codemirror_mode": {
    "name": "ipython",
    "version": 3
   },
   "file_extension": ".py",
   "mimetype": "text/x-python",
   "name": "python",
   "nbconvert_exporter": "python",
   "pygments_lexer": "ipython3",
   "version": "3.10.11"
  },
  "orig_nbformat": 4
 },
 "nbformat": 4,
 "nbformat_minor": 2
}
