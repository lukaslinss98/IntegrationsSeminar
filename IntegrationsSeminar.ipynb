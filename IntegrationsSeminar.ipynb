{
 "cells": [
  {
   "attachments": {},
   "cell_type": "markdown",
   "metadata": {},
   "source": [
    "## Requirements\n",
    "\n",
    "### Web-Scraping\n",
    "#### 1. Take the base wg-gesucht URL and scrape the shared flats listed on the website\n",
    "#### 2. most important data points are price, room size and number of flat mates\n",
    "\n",
    "### Data Analyis\n",
    "#### 1. Correlation analysis of room price and room size. Hypothesis: positive correlation\n",
    "#### 2. Correlation analysis of room price and number of flat mates. Hypothesis: negative correlation"
   ]
  },
  {
   "attachments": {},
   "cell_type": "markdown",
   "metadata": {},
   "source": [
    "### Import all neccessary libraries"
   ]
  },
  {
   "cell_type": "code",
   "execution_count": 20,
   "metadata": {},
   "outputs": [],
   "source": [
    "import requests\n",
    "from bs4 import BeautifulSoup\n",
    "import pandas as pd\n",
    "import numpy as np"
   ]
  },
  {
   "attachments": {},
   "cell_type": "markdown",
   "metadata": {},
   "source": [
    "### Set base wg-gesucht url\n",
    "### Add string interpolation to allow easy iteration through listing pages"
   ]
  },
  {
   "cell_type": "code",
   "execution_count": 25,
   "metadata": {},
   "outputs": [],
   "source": [
    "pageNumber = 1\n",
    "URL = f'https://www.wg-gesucht.de/wg-zimmer-in-Mannheim.85.0.0.{pageNumber}.html?pagination=1&pu='\n"
   ]
  },
  {
   "attachments": {},
   "cell_type": "markdown",
   "metadata": {},
   "source": [
    "### Iterate through listing pages and scrape the required data points\n",
    "### Place scraped data into a dataframe/dictionary"
   ]
  },
  {
   "cell_type": "code",
   "execution_count": 34,
   "metadata": {},
   "outputs": [
    {
     "name": "stderr",
     "output_type": "stream",
     "text": [
      "C:\\Users\\a794037\\AppData\\Local\\Temp\\ipykernel_19588\\1335119623.py:5: FutureWarning: The frame.append method is deprecated and will be removed from pandas in a future version. Use pandas.concat instead.\n",
      "  df.append(pd.read_html(f'https://www.wg-gesucht.de/wg-zimmer-in-Mannheim.85.0.0.{i}.html?pagination=1&pu=')[0])\n"
     ]
    },
    {
     "name": "stdout",
     "output_type": "stream",
     "text": [
      "   Unnamed: 0  Bewohner     Eintrag Miete Größe              Stadtteil  \\\n",
      "0         NaN       NaN  12.04.2023  320€  15m²  Mannheim  Neckarstadt   \n",
      "1         NaN       NaN  12.04.2023  590€  25m²    Mannheim  Lindenhof   \n",
      "2         NaN       NaN  12.04.2023  260€  15m²  Mannheim  Neckarstadt   \n",
      "3         NaN       NaN  12.04.2023  400€  11m²  Mannheim  Neckarstadt   \n",
      "4         NaN       NaN  12.04.2023  389€  16m²  Mannheim  Neckarstadt   \n",
      "\n",
      "      frei ab    frei bis  Unnamed: 8  \n",
      "0  12.04.2023         NaN         NaN  \n",
      "1  12.04.2023         NaN         NaN  \n",
      "2  01.07.2023  30.09.2023         NaN  \n",
      "3  15.04.2023         NaN         NaN  \n",
      "4  01.06.2023  31.07.2023         NaN  \n"
     ]
    },
    {
     "name": "stderr",
     "output_type": "stream",
     "text": [
      "C:\\Users\\a794037\\AppData\\Local\\Temp\\ipykernel_19588\\1335119623.py:5: FutureWarning: The frame.append method is deprecated and will be removed from pandas in a future version. Use pandas.concat instead.\n",
      "  df.append(pd.read_html(f'https://www.wg-gesucht.de/wg-zimmer-in-Mannheim.85.0.0.{i}.html?pagination=1&pu=')[0])\n"
     ]
    },
    {
     "name": "stdout",
     "output_type": "stream",
     "text": [
      "   Unnamed: 0  Bewohner     Eintrag Miete Größe              Stadtteil  \\\n",
      "0         NaN       NaN  12.04.2023  320€  15m²  Mannheim  Neckarstadt   \n",
      "1         NaN       NaN  12.04.2023  590€  25m²    Mannheim  Lindenhof   \n",
      "2         NaN       NaN  12.04.2023  260€  15m²  Mannheim  Neckarstadt   \n",
      "3         NaN       NaN  12.04.2023  400€  11m²  Mannheim  Neckarstadt   \n",
      "4         NaN       NaN  12.04.2023  389€  16m²  Mannheim  Neckarstadt   \n",
      "\n",
      "      frei ab    frei bis  Unnamed: 8  \n",
      "0  12.04.2023         NaN         NaN  \n",
      "1  12.04.2023         NaN         NaN  \n",
      "2  01.07.2023  30.09.2023         NaN  \n",
      "3  15.04.2023         NaN         NaN  \n",
      "4  01.06.2023  31.07.2023         NaN  \n"
     ]
    },
    {
     "name": "stderr",
     "output_type": "stream",
     "text": [
      "C:\\Users\\a794037\\AppData\\Local\\Temp\\ipykernel_19588\\1335119623.py:5: FutureWarning: The frame.append method is deprecated and will be removed from pandas in a future version. Use pandas.concat instead.\n",
      "  df.append(pd.read_html(f'https://www.wg-gesucht.de/wg-zimmer-in-Mannheim.85.0.0.{i}.html?pagination=1&pu=')[0])\n"
     ]
    },
    {
     "name": "stdout",
     "output_type": "stream",
     "text": [
      "   Unnamed: 0  Bewohner     Eintrag Miete Größe              Stadtteil  \\\n",
      "0         NaN       NaN  12.04.2023  320€  15m²  Mannheim  Neckarstadt   \n",
      "1         NaN       NaN  12.04.2023  590€  25m²    Mannheim  Lindenhof   \n",
      "2         NaN       NaN  12.04.2023  260€  15m²  Mannheim  Neckarstadt   \n",
      "3         NaN       NaN  12.04.2023  400€  11m²  Mannheim  Neckarstadt   \n",
      "4         NaN       NaN  12.04.2023  389€  16m²  Mannheim  Neckarstadt   \n",
      "\n",
      "      frei ab    frei bis  Unnamed: 8  \n",
      "0  12.04.2023         NaN         NaN  \n",
      "1  12.04.2023         NaN         NaN  \n",
      "2  01.07.2023  30.09.2023         NaN  \n",
      "3  15.04.2023         NaN         NaN  \n",
      "4  01.06.2023  31.07.2023         NaN  \n"
     ]
    },
    {
     "name": "stderr",
     "output_type": "stream",
     "text": [
      "C:\\Users\\a794037\\AppData\\Local\\Temp\\ipykernel_19588\\1335119623.py:5: FutureWarning: The frame.append method is deprecated and will be removed from pandas in a future version. Use pandas.concat instead.\n",
      "  df.append(pd.read_html(f'https://www.wg-gesucht.de/wg-zimmer-in-Mannheim.85.0.0.{i}.html?pagination=1&pu=')[0])\n"
     ]
    },
    {
     "name": "stdout",
     "output_type": "stream",
     "text": [
      "   Unnamed: 0  Bewohner     Eintrag Miete Größe              Stadtteil  \\\n",
      "0         NaN       NaN  12.04.2023  320€  15m²  Mannheim  Neckarstadt   \n",
      "1         NaN       NaN  12.04.2023  590€  25m²    Mannheim  Lindenhof   \n",
      "2         NaN       NaN  12.04.2023  260€  15m²  Mannheim  Neckarstadt   \n",
      "3         NaN       NaN  12.04.2023  400€  11m²  Mannheim  Neckarstadt   \n",
      "4         NaN       NaN  12.04.2023  389€  16m²  Mannheim  Neckarstadt   \n",
      "\n",
      "      frei ab    frei bis  Unnamed: 8  \n",
      "0  12.04.2023         NaN         NaN  \n",
      "1  12.04.2023         NaN         NaN  \n",
      "2  01.07.2023  30.09.2023         NaN  \n",
      "3  15.04.2023         NaN         NaN  \n",
      "4  01.06.2023  31.07.2023         NaN  \n",
      "   Unnamed: 0  Bewohner     Eintrag Miete Größe              Stadtteil  \\\n",
      "0         NaN       NaN  12.04.2023  320€  15m²  Mannheim  Neckarstadt   \n",
      "1         NaN       NaN  12.04.2023  590€  25m²    Mannheim  Lindenhof   \n",
      "2         NaN       NaN  12.04.2023  260€  15m²  Mannheim  Neckarstadt   \n",
      "3         NaN       NaN  12.04.2023  400€  11m²  Mannheim  Neckarstadt   \n",
      "4         NaN       NaN  12.04.2023  389€  16m²  Mannheim  Neckarstadt   \n",
      "\n",
      "      frei ab    frei bis  Unnamed: 8  \n",
      "0  12.04.2023         NaN         NaN  \n",
      "1  12.04.2023         NaN         NaN  \n",
      "2  01.07.2023  30.09.2023         NaN  \n",
      "3  15.04.2023         NaN         NaN  \n",
      "4  01.06.2023  31.07.2023         NaN  \n"
     ]
    },
    {
     "name": "stderr",
     "output_type": "stream",
     "text": [
      "C:\\Users\\a794037\\AppData\\Local\\Temp\\ipykernel_19588\\1335119623.py:5: FutureWarning: The frame.append method is deprecated and will be removed from pandas in a future version. Use pandas.concat instead.\n",
      "  df.append(pd.read_html(f'https://www.wg-gesucht.de/wg-zimmer-in-Mannheim.85.0.0.{i}.html?pagination=1&pu=')[0])\n"
     ]
    }
   ],
   "source": [
    "pages = range(5)\n",
    "df = pd.read_html(f'https://www.wg-gesucht.de/wg-zimmer-in-Mannheim.85.0.0.0.html?pagination=1&pu=')[0]\n",
    "\n",
    "for i, page in enumerate(pages):\n",
    "    df.append(pd.read_html(f'https://www.wg-gesucht.de/wg-zimmer-in-Mannheim.85.0.0.{i}.html?pagination=1&pu=')[0])\n",
    "    print(df.head())\n"
   ]
  },
  {
   "cell_type": "code",
   "execution_count": 35,
   "metadata": {},
   "outputs": [],
   "source": [
    "df.to_excel('wg-listing.xlsx')"
   ]
  }
 ],
 "metadata": {
  "kernelspec": {
   "display_name": "Python 3",
   "language": "python",
   "name": "python3"
  },
  "language_info": {
   "codemirror_mode": {
    "name": "ipython",
    "version": 3
   },
   "file_extension": ".py",
   "mimetype": "text/x-python",
   "name": "python",
   "nbconvert_exporter": "python",
   "pygments_lexer": "ipython3",
   "version": "3.10.11"
  },
  "orig_nbformat": 4
 },
 "nbformat": 4,
 "nbformat_minor": 2
}
